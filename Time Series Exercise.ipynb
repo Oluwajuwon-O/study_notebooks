{
 "cells": [
  {
   "cell_type": "code",
   "execution_count": 2,
   "id": "16cd93ac",
   "metadata": {},
   "outputs": [],
   "source": [
    "import numpy as np\n",
    "import pandas as pd\n",
    "from datetime import datetime"
   ]
  },
  {
   "cell_type": "markdown",
   "id": "e6d8c9d4",
   "metadata": {},
   "source": [
    "1. Write a Pandas program to create\n",
    "    * Datetime object for Jan 15 2012.\n",
    "    * Specific date and time of 9:20 pm.\n",
    "    * Local date and time.\n",
    "    * A date without time.\n",
    "    * Current date.\n",
    "    * Time from a datetime.\n",
    "    * Current local time."
   ]
  },
  {
   "cell_type": "code",
   "execution_count": null,
   "id": "4d48f260",
   "metadata": {},
   "outputs": [],
   "source": [
    "a = datetime(2015,12,1)"
   ]
  },
  {
   "cell_type": "code",
   "execution_count": 9,
   "id": "44569ffa",
   "metadata": {},
   "outputs": [
    {
     "name": "stdout",
     "output_type": "stream",
     "text": [
      "21\n",
      "20\n"
     ]
    }
   ],
   "source": [
    "b = datetime(2015,12,1,21,20)\n",
    "print('hour:',b.hour)\n",
    "print('minute:',b.minute)"
   ]
  },
  {
   "cell_type": "code",
   "execution_count": 36,
   "id": "3298c064",
   "metadata": {},
   "outputs": [
    {
     "name": "stdout",
     "output_type": "stream",
     "text": [
      "local_datetime: 2023-01-23 11:14:45.066445\n"
     ]
    }
   ],
   "source": [
    "# c.\n",
    "print('local_datetime:',datetime.now())"
   ]
  },
  {
   "cell_type": "code",
   "execution_count": 18,
   "id": "5bea0e23",
   "metadata": {},
   "outputs": [
    {
     "data": {
      "text/plain": [
       "'2015/12/03'"
      ]
     },
     "execution_count": 18,
     "metadata": {},
     "output_type": "execute_result"
    }
   ],
   "source": [
    "# d. \n",
    "d = datetime(2015,12,3)\n",
    "d.strftime('%Y/%m/%d')"
   ]
  },
  {
   "cell_type": "code",
   "execution_count": 30,
   "id": "6875e54e",
   "metadata": {},
   "outputs": [
    {
     "name": "stdout",
     "output_type": "stream",
     "text": [
      "current date: 2023 1 23\n",
      "current date: 2023-01-23\n"
     ]
    }
   ],
   "source": [
    "# e.\n",
    "now = datetime.now()\n",
    "print('current date:',now.year,now.month,now.day)\n",
    "print('current date:',now.date())"
   ]
  },
  {
   "cell_type": "code",
   "execution_count": 37,
   "id": "1259cebc",
   "metadata": {},
   "outputs": [
    {
     "name": "stdout",
     "output_type": "stream",
     "text": [
      "21:20:00\n"
     ]
    }
   ],
   "source": [
    "# f.\n",
    "f = datetime(2015,12,1,21,20)\n",
    "print(f.time())"
   ]
  },
  {
   "cell_type": "code",
   "execution_count": 39,
   "id": "c70fb412",
   "metadata": {},
   "outputs": [
    {
     "name": "stdout",
     "output_type": "stream",
     "text": [
      "current_local_time: 11:16:18.098601\n"
     ]
    }
   ],
   "source": [
    "# g.\n",
    "now = datetime.now()\n",
    "print('current_local_time:',now.time())"
   ]
  },
  {
   "cell_type": "markdown",
   "id": "07c7f0f1",
   "metadata": {},
   "source": [
    "2. Write a Pandas program to create Go to the editor\n",
    "    * a specific date using timestamp.\n",
    "    * date and time using timestamp.\n",
    "    * a time adds in the current local date using timestamp.\n",
    "    * current date and time using timestamp."
   ]
  },
  {
   "cell_type": "code",
   "execution_count": 44,
   "id": "2c37ec53",
   "metadata": {},
   "outputs": [
    {
     "data": {
      "text/plain": [
       "datetime.date(2021, 9, 11)"
      ]
     },
     "execution_count": 44,
     "metadata": {},
     "output_type": "execute_result"
    }
   ],
   "source": [
    "# a.\n",
    "pd.Timestamp('2021-09-11').date()"
   ]
  },
  {
   "cell_type": "code",
   "execution_count": 45,
   "id": "ac4a192a",
   "metadata": {},
   "outputs": [
    {
     "data": {
      "text/plain": [
       "Timestamp('2021-09-11 12:00:00')"
      ]
     },
     "execution_count": 45,
     "metadata": {},
     "output_type": "execute_result"
    }
   ],
   "source": [
    "# b.\n",
    "pd.Timestamp('2021/09/11 12:00')"
   ]
  },
  {
   "cell_type": "code",
   "execution_count": 47,
   "id": "c1672bd3",
   "metadata": {},
   "outputs": [
    {
     "data": {
      "text/plain": [
       "Timestamp('2023-01-23 02:45:00')"
      ]
     },
     "execution_count": 47,
     "metadata": {},
     "output_type": "execute_result"
    }
   ],
   "source": [
    "# c. \n",
    "pd.Timestamp('2:45')"
   ]
  },
  {
   "cell_type": "code",
   "execution_count": 48,
   "id": "c45ccfbc",
   "metadata": {},
   "outputs": [
    {
     "data": {
      "text/plain": [
       "Timestamp('2023-01-23 11:35:27.241018')"
      ]
     },
     "execution_count": 48,
     "metadata": {},
     "output_type": "execute_result"
    }
   ],
   "source": [
    "# d.\n",
    "pd.Timestamp('now')"
   ]
  },
  {
   "cell_type": "markdown",
   "id": "57e45d04",
   "metadata": {},
   "source": [
    "3. Write a Pandas program to create a date from a given year, month, day and another date from a given string formats"
   ]
  },
  {
   "cell_type": "code",
   "execution_count": null,
   "id": "b77b9011",
   "metadata": {},
   "outputs": [],
   "source": [
    "year,month,day = input('enter year: '),input('enter month: '), input('enter day: ')\n",
    "d = year+'-'+month+'-'+day"
   ]
  },
  {
   "cell_type": "code",
   "execution_count": 57,
   "id": "1c449710",
   "metadata": {},
   "outputs": [
    {
     "name": "stdout",
     "output_type": "stream",
     "text": [
      "2011-09-08\n",
      "2011-09-08\n"
     ]
    }
   ],
   "source": [
    "print(datetime.strptime(d,'%Y-%m-%d').date())\n",
    "print(pd.Timestamp(d).date())"
   ]
  },
  {
   "cell_type": "code",
   "execution_count": 65,
   "id": "29d76572",
   "metadata": {},
   "outputs": [
    {
     "data": {
      "text/plain": [
       "datetime.datetime(2023, 10, 1, 0, 0)"
      ]
     },
     "execution_count": 65,
     "metadata": {},
     "output_type": "execute_result"
    }
   ],
   "source": [
    "from dateutil.parser import parse\n",
    "parse('1 oct 2023')"
   ]
  },
  {
   "cell_type": "markdown",
   "id": "ef37595b",
   "metadata": {},
   "source": [
    "Write a Pandas program to print the day after and before a specified date. Also print the days between two given dates"
   ]
  },
  {
   "cell_type": "code",
   "execution_count": 72,
   "id": "adec7010",
   "metadata": {},
   "outputs": [
    {
     "data": {
      "text/plain": [
       "DatetimeIndex(['2023-01-23 13:04:50.157266', '2023-01-24 13:04:50.157266',\n",
       "               '2023-01-25 13:04:50.157266', '2023-01-26 13:04:50.157266',\n",
       "               '2023-01-27 13:04:50.157266', '2023-01-28 13:04:50.157266',\n",
       "               '2023-01-29 13:04:50.157266', '2023-01-30 13:04:50.157266',\n",
       "               '2023-01-31 13:04:50.157266', '2023-02-01 13:04:50.157266',\n",
       "               '2023-02-02 13:04:50.157266', '2023-02-03 13:04:50.157266',\n",
       "               '2023-02-04 13:04:50.157266', '2023-02-05 13:04:50.157266',\n",
       "               '2023-02-06 13:04:50.157266', '2023-02-07 13:04:50.157266',\n",
       "               '2023-02-08 13:04:50.157266', '2023-02-09 13:04:50.157266',\n",
       "               '2023-02-10 13:04:50.157266', '2023-02-11 13:04:50.157266',\n",
       "               '2023-02-12 13:04:50.157266', '2023-02-13 13:04:50.157266',\n",
       "               '2023-02-14 13:04:50.157266', '2023-02-15 13:04:50.157266',\n",
       "               '2023-02-16 13:04:50.157266', '2023-02-17 13:04:50.157266',\n",
       "               '2023-02-18 13:04:50.157266', '2023-02-19 13:04:50.157266',\n",
       "               '2023-02-20 13:04:50.157266', '2023-02-21 13:04:50.157266',\n",
       "               '2023-02-22 13:04:50.157266', '2023-02-23 13:04:50.157266',\n",
       "               '2023-02-24 13:04:50.157266'],\n",
       "              dtype='datetime64[ns]', freq='D')"
      ]
     },
     "execution_count": 72,
     "metadata": {},
     "output_type": "execute_result"
    }
   ],
   "source": [
    "pd.date_range(start = datetime.now(), end = datetime(day=25, month=2, year=2023))"
   ]
  },
  {
   "cell_type": "code",
   "execution_count": 84,
   "id": "06aec49e",
   "metadata": {},
   "outputs": [
    {
     "data": {
      "text/plain": [
       "datetime.timedelta(days=32, seconds=38179, microseconds=354517)"
      ]
     },
     "execution_count": 84,
     "metadata": {},
     "output_type": "execute_result"
    }
   ],
   "source": [
    "start = datetime.now()\n",
    "end = datetime(2023,2,25)\n",
    "end - start"
   ]
  },
  {
   "cell_type": "code",
   "execution_count": 85,
   "id": "c43a1652",
   "metadata": {},
   "outputs": [
    {
     "name": "stdout",
     "output_type": "stream",
     "text": [
      "Tomorrow: 2023-01-24 13:25:27.468363\n",
      "Yesterday: 2023-01-22 13:25:27.469364\n"
     ]
    }
   ],
   "source": [
    "print('Tomorrow:',pd.Timestamp('now') + pd.Timedelta(days = 1))\n",
    "print('Yesterday:',pd.Timestamp('now') - pd.Timedelta(days = 1))"
   ]
  },
  {
   "cell_type": "code",
   "execution_count": 1,
   "id": "0c86d6cc",
   "metadata": {},
   "outputs": [],
   "source": [
    "import numpy as np\n",
    "from sklearn.model_selection import TimeSeriesSplit"
   ]
  },
  {
   "cell_type": "code",
   "execution_count": null,
   "id": "b8ace914",
   "metadata": {},
   "outputs": [],
   "source": []
  }
 ],
 "metadata": {
  "kernelspec": {
   "display_name": "Python 3 (ipykernel)",
   "language": "python",
   "name": "python3"
  },
  "language_info": {
   "codemirror_mode": {
    "name": "ipython",
    "version": 3
   },
   "file_extension": ".py",
   "mimetype": "text/x-python",
   "name": "python",
   "nbconvert_exporter": "python",
   "pygments_lexer": "ipython3",
   "version": "3.9.13"
  }
 },
 "nbformat": 4,
 "nbformat_minor": 5
}
