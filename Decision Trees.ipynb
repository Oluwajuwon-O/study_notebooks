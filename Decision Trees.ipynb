{
 "cells": [
  {
   "cell_type": "code",
   "execution_count": 1,
   "id": "02b5c7e9",
   "metadata": {},
   "outputs": [],
   "source": [
    "from sklearn.datasets import load_iris\n",
    "from sklearn.tree import DecisionTreeClassifier"
   ]
  },
  {
   "cell_type": "code",
   "execution_count": 2,
   "id": "a724a937",
   "metadata": {},
   "outputs": [],
   "source": [
    "iris = load_iris()\n",
    "x = iris.data[:,2:]\n",
    "y = iris.target\n"
   ]
  },
  {
   "cell_type": "code",
   "execution_count": 3,
   "id": "54a98c8d",
   "metadata": {},
   "outputs": [
    {
     "data": {
      "text/plain": [
       "DecisionTreeClassifier(max_depth=2)"
      ]
     },
     "execution_count": 3,
     "metadata": {},
     "output_type": "execute_result"
    }
   ],
   "source": [
    "tree_clf = DecisionTreeClassifier(max_depth=2)\n",
    "tree_clf.fit(x,y)"
   ]
  },
  {
   "cell_type": "markdown",
   "id": "f86f2229",
   "metadata": {},
   "source": [
    "**to visualize a Decision Tree**"
   ]
  },
  {
   "cell_type": "code",
   "execution_count": 4,
   "id": "90bcf6f9",
   "metadata": {},
   "outputs": [],
   "source": [
    "from sklearn.tree import export_graphviz"
   ]
  },
  {
   "cell_type": "code",
   "execution_count": 5,
   "id": "2dc957b7",
   "metadata": {},
   "outputs": [],
   "source": [
    "export_graphviz(\n",
    "    tree_clf,\n",
    "    out_file=(\"iris_tree.dot\"),\n",
    "    feature_names= iris.feature_names[2:],\n",
    "    class_names= iris.target_names,\n",
    "    rounded = True,\n",
    "    filled = True\n",
    ")"
   ]
  },
  {
   "cell_type": "markdown",
   "id": "672f488a",
   "metadata": {},
   "source": [
    "estimating class probabities\n",
    "- let's say petal length = 5 & petal_width = 1.5"
   ]
  },
  {
   "cell_type": "code",
   "execution_count": 6,
   "id": "056034d4",
   "metadata": {},
   "outputs": [
    {
     "data": {
      "text/plain": [
       "array([[0.        , 0.90740741, 0.09259259]])"
      ]
     },
     "execution_count": 6,
     "metadata": {},
     "output_type": "execute_result"
    }
   ],
   "source": [
    "tree_clf.predict_proba([[5,1.5]])"
   ]
  },
  {
   "cell_type": "markdown",
   "id": "2a832344",
   "metadata": {},
   "source": [
    "0% for setosa\n",
    "90.7% for vericolor\n",
    "0.09% for virginica"
   ]
  },
  {
   "cell_type": "markdown",
   "id": "830cb893",
   "metadata": {},
   "source": [
    "**Regression with DT**"
   ]
  },
  {
   "cell_type": "code",
   "execution_count": 7,
   "id": "4c06c896",
   "metadata": {},
   "outputs": [
    {
     "data": {
      "text/plain": [
       "DecisionTreeRegressor(max_depth=2)"
      ]
     },
     "execution_count": 7,
     "metadata": {},
     "output_type": "execute_result"
    }
   ],
   "source": [
    "from sklearn.tree import DecisionTreeRegressor\n",
    "tree_reg = DecisionTreeRegressor(max_depth=2)\n",
    "tree_reg.fit(x,y)"
   ]
  },
  {
   "cell_type": "code",
   "execution_count": 8,
   "id": "54dec6a8",
   "metadata": {},
   "outputs": [],
   "source": [
    "export_graphviz(\n",
    "    tree_reg,\n",
    "    out_file=(\"iris_tree_reg.dot\"),\n",
    "    feature_names= iris.feature_names[2:],\n",
    "    class_names= iris.target_names,\n",
    "    rounded = True,\n",
    "    filled = True\n",
    ")"
   ]
  },
  {
   "cell_type": "code",
   "execution_count": null,
   "id": "4b7e380b",
   "metadata": {},
   "outputs": [],
   "source": []
  },
  {
   "cell_type": "code",
   "execution_count": null,
   "id": "7bca39e6",
   "metadata": {},
   "outputs": [],
   "source": []
  },
  {
   "cell_type": "code",
   "execution_count": 9,
   "id": "67f729ea",
   "metadata": {},
   "outputs": [],
   "source": [
    "import numpy as np\n",
    "import pandas as pd"
   ]
  },
  {
   "cell_type": "code",
   "execution_count": 10,
   "id": "bc0f8f12",
   "metadata": {},
   "outputs": [],
   "source": [
    "from sklearn.datasets import make_moons"
   ]
  },
  {
   "cell_type": "code",
   "execution_count": 11,
   "id": "efa3cf31",
   "metadata": {},
   "outputs": [
    {
     "data": {
      "text/plain": [
       "(array([[ 0.36173243,  0.38765163],\n",
       "        [-1.21990909,  0.78618793],\n",
       "        [ 0.25330711, -0.68937462],\n",
       "        ...,\n",
       "        [ 0.21909657,  1.09244758],\n",
       "        [-0.30217231,  0.39107475],\n",
       "        [ 2.47856104, -0.33211952]]),\n",
       " array([1, 0, 1, ..., 0, 0, 1], dtype=int64))"
      ]
     },
     "execution_count": 11,
     "metadata": {},
     "output_type": "execute_result"
    }
   ],
   "source": [
    "moons = make_moons(n_samples =10000, noise=0.4)\n",
    "moons"
   ]
  },
  {
   "cell_type": "code",
   "execution_count": 12,
   "id": "6a77ba28",
   "metadata": {},
   "outputs": [],
   "source": [
    "from sklearn.model_selection import train_test_split\n",
    "\n",
    "x_train,x_test,y_train,y_test = train_test_split(x,y,test_size=0.2,random_state=42)"
   ]
  },
  {
   "cell_type": "code",
   "execution_count": 13,
   "id": "ad7710b3",
   "metadata": {},
   "outputs": [],
   "source": [
    "from sklearn.model_selection import GridSearchCV"
   ]
  },
  {
   "cell_type": "code",
   "execution_count": 16,
   "id": "ffef17ed",
   "metadata": {},
   "outputs": [],
   "source": [
    "param_grid = [{'criterion':['gini','entropy'],\n",
    "              'max_depth':np.arange(1,20),\n",
    "              'max_leaf_nodes':np.arange(1,20),\n",
    "              }]"
   ]
  },
  {
   "cell_type": "code",
   "execution_count": 22,
   "id": "be0fa5f7",
   "metadata": {},
   "outputs": [],
   "source": [
    "grid = GridSearchCV(DecisionTreeClassifier(random_state=42),param_grid,cv=5)"
   ]
  },
  {
   "cell_type": "code",
   "execution_count": 28,
   "id": "0b47b19a",
   "metadata": {
    "collapsed": true
   },
   "outputs": [
    {
     "name": "stdout",
     "output_type": "stream",
     "text": [
      "Wall time: 15.6 s\n"
     ]
    },
    {
     "name": "stderr",
     "output_type": "stream",
     "text": [
      "C:\\Users\\Oluwajuwon\\anaconda3\\lib\\site-packages\\sklearn\\model_selection\\_validation.py:372: FitFailedWarning: \n",
      "190 fits failed out of a total of 3610.\n",
      "The score on these train-test partitions for these parameters will be set to nan.\n",
      "If these failures are not expected, you can try to debug them by setting error_score='raise'.\n",
      "\n",
      "Below are more details about the failures:\n",
      "--------------------------------------------------------------------------------\n",
      "190 fits failed with the following error:\n",
      "Traceback (most recent call last):\n",
      "  File \"C:\\Users\\Oluwajuwon\\anaconda3\\lib\\site-packages\\sklearn\\model_selection\\_validation.py\", line 680, in _fit_and_score\n",
      "    estimator.fit(X_train, y_train, **fit_params)\n",
      "  File \"C:\\Users\\Oluwajuwon\\anaconda3\\lib\\site-packages\\sklearn\\tree\\_classes.py\", line 937, in fit\n",
      "    super().fit(\n",
      "  File \"C:\\Users\\Oluwajuwon\\anaconda3\\lib\\site-packages\\sklearn\\tree\\_classes.py\", line 314, in fit\n",
      "    raise ValueError(\n",
      "ValueError: max_leaf_nodes 1 must be either None or larger than 1\n",
      "\n",
      "  warnings.warn(some_fits_failed_message, FitFailedWarning)\n",
      "C:\\Users\\Oluwajuwon\\anaconda3\\lib\\site-packages\\sklearn\\model_selection\\_search.py:969: UserWarning: One or more of the test scores are non-finite: [       nan 0.675      0.675      0.675      0.675      0.675\n",
      " 0.675      0.675      0.675      0.675      0.675      0.675\n",
      " 0.675      0.675      0.675      0.675      0.675      0.675\n",
      " 0.675             nan 0.675      0.91666667 0.91666667 0.91666667\n",
      " 0.91666667 0.91666667 0.91666667 0.91666667 0.91666667 0.91666667\n",
      " 0.91666667 0.91666667 0.91666667 0.91666667 0.91666667 0.91666667\n",
      " 0.91666667 0.91666667        nan 0.675      0.91666667 0.94166667\n",
      " 0.93333333 0.93333333 0.93333333 0.93333333 0.93333333 0.93333333\n",
      " 0.93333333 0.93333333 0.93333333 0.93333333 0.93333333 0.93333333\n",
      " 0.93333333 0.93333333 0.93333333        nan 0.675      0.91666667\n",
      " 0.94166667 0.94166667 0.94166667 0.93333333 0.93333333 0.93333333\n",
      " 0.93333333 0.93333333 0.93333333 0.93333333 0.93333333 0.93333333\n",
      " 0.93333333 0.93333333 0.93333333 0.93333333        nan 0.675\n",
      " 0.91666667 0.94166667 0.94166667 0.93333333 0.925      0.925\n",
      " 0.91666667 0.91666667 0.91666667 0.91666667 0.91666667 0.91666667\n",
      " 0.91666667 0.91666667 0.91666667 0.91666667 0.91666667        nan\n",
      " 0.675      0.91666667 0.94166667 0.94166667 0.93333333 0.93333333\n",
      " 0.93333333 0.925      0.925      0.925      0.925      0.925\n",
      " 0.925      0.925      0.925      0.925      0.925      0.925\n",
      "        nan 0.675      0.91666667 0.94166667 0.94166667 0.93333333\n",
      " 0.93333333 0.93333333 0.925      0.925      0.925      0.925\n",
      " 0.925      0.925      0.925      0.925      0.925      0.925\n",
      " 0.925             nan 0.675      0.91666667 0.94166667 0.94166667\n",
      " 0.93333333 0.93333333 0.93333333 0.925      0.925      0.925\n",
      " 0.925      0.925      0.925      0.925      0.925      0.925\n",
      " 0.925      0.925             nan 0.675      0.91666667 0.94166667\n",
      " 0.94166667 0.93333333 0.93333333 0.93333333 0.925      0.925\n",
      " 0.925      0.925      0.925      0.925      0.925      0.925\n",
      " 0.925      0.925      0.925             nan 0.675      0.91666667\n",
      " 0.94166667 0.94166667 0.93333333 0.93333333 0.93333333 0.925\n",
      " 0.925      0.925      0.925      0.925      0.925      0.925\n",
      " 0.925      0.925      0.925      0.925             nan 0.675\n",
      " 0.91666667 0.94166667 0.94166667 0.93333333 0.93333333 0.93333333\n",
      " 0.925      0.925      0.925      0.925      0.925      0.925\n",
      " 0.925      0.925      0.925      0.925      0.925             nan\n",
      " 0.675      0.91666667 0.94166667 0.94166667 0.93333333 0.93333333\n",
      " 0.93333333 0.925      0.925      0.925      0.925      0.925\n",
      " 0.925      0.925      0.925      0.925      0.925      0.925\n",
      "        nan 0.675      0.91666667 0.94166667 0.94166667 0.93333333\n",
      " 0.93333333 0.93333333 0.925      0.925      0.925      0.925\n",
      " 0.925      0.925      0.925      0.925      0.925      0.925\n",
      " 0.925             nan 0.675      0.91666667 0.94166667 0.94166667\n",
      " 0.93333333 0.93333333 0.93333333 0.925      0.925      0.925\n",
      " 0.925      0.925      0.925      0.925      0.925      0.925\n",
      " 0.925      0.925             nan 0.675      0.91666667 0.94166667\n",
      " 0.94166667 0.93333333 0.93333333 0.93333333 0.925      0.925\n",
      " 0.925      0.925      0.925      0.925      0.925      0.925\n",
      " 0.925      0.925      0.925             nan 0.675      0.91666667\n",
      " 0.94166667 0.94166667 0.93333333 0.93333333 0.93333333 0.925\n",
      " 0.925      0.925      0.925      0.925      0.925      0.925\n",
      " 0.925      0.925      0.925      0.925             nan 0.675\n",
      " 0.91666667 0.94166667 0.94166667 0.93333333 0.93333333 0.93333333\n",
      " 0.925      0.925      0.925      0.925      0.925      0.925\n",
      " 0.925      0.925      0.925      0.925      0.925             nan\n",
      " 0.675      0.91666667 0.94166667 0.94166667 0.93333333 0.93333333\n",
      " 0.93333333 0.925      0.925      0.925      0.925      0.925\n",
      " 0.925      0.925      0.925      0.925      0.925      0.925\n",
      "        nan 0.675      0.91666667 0.94166667 0.94166667 0.93333333\n",
      " 0.93333333 0.93333333 0.925      0.925      0.925      0.925\n",
      " 0.925      0.925      0.925      0.925      0.925      0.925\n",
      " 0.925             nan 0.675      0.675      0.675      0.675\n",
      " 0.675      0.675      0.675      0.675      0.675      0.675\n",
      " 0.675      0.675      0.675      0.675      0.675      0.675\n",
      " 0.675      0.675             nan 0.675      0.91666667 0.91666667\n",
      " 0.91666667 0.91666667 0.91666667 0.91666667 0.91666667 0.91666667\n",
      " 0.91666667 0.91666667 0.91666667 0.91666667 0.91666667 0.91666667\n",
      " 0.91666667 0.91666667 0.91666667        nan 0.675      0.91666667\n",
      " 0.94166667 0.93333333 0.93333333 0.93333333 0.93333333 0.93333333\n",
      " 0.93333333 0.93333333 0.93333333 0.93333333 0.93333333 0.93333333\n",
      " 0.93333333 0.93333333 0.93333333 0.93333333        nan 0.675\n",
      " 0.91666667 0.94166667 0.94166667 0.93333333 0.925      0.925\n",
      " 0.925      0.925      0.925      0.925      0.925      0.925\n",
      " 0.925      0.925      0.925      0.925      0.925             nan\n",
      " 0.675      0.91666667 0.94166667 0.94166667 0.94166667 0.93333333\n",
      " 0.93333333 0.925      0.925      0.925      0.925      0.925\n",
      " 0.925      0.925      0.925      0.925      0.925      0.925\n",
      "        nan 0.675      0.91666667 0.94166667 0.94166667 0.94166667\n",
      " 0.925      0.925      0.91666667 0.91666667 0.91666667 0.91666667\n",
      " 0.91666667 0.91666667 0.91666667 0.91666667 0.91666667 0.91666667\n",
      " 0.91666667        nan 0.675      0.91666667 0.94166667 0.94166667\n",
      " 0.94166667 0.925      0.93333333 0.925      0.925      0.925\n",
      " 0.925      0.925      0.925      0.925      0.925      0.925\n",
      " 0.925      0.925             nan 0.675      0.91666667 0.94166667\n",
      " 0.94166667 0.94166667 0.925      0.93333333 0.925      0.925\n",
      " 0.925      0.925      0.925      0.925      0.925      0.925\n",
      " 0.925      0.925      0.925             nan 0.675      0.91666667\n",
      " 0.94166667 0.94166667 0.94166667 0.925      0.93333333 0.925\n",
      " 0.925      0.925      0.925      0.925      0.925      0.925\n",
      " 0.925      0.925      0.925      0.925             nan 0.675\n",
      " 0.91666667 0.94166667 0.94166667 0.94166667 0.925      0.93333333\n",
      " 0.925      0.925      0.925      0.925      0.925      0.925\n",
      " 0.925      0.925      0.925      0.925      0.925             nan\n",
      " 0.675      0.91666667 0.94166667 0.94166667 0.94166667 0.925\n",
      " 0.93333333 0.925      0.925      0.925      0.925      0.925\n",
      " 0.925      0.925      0.925      0.925      0.925      0.925\n",
      "        nan 0.675      0.91666667 0.94166667 0.94166667 0.94166667\n",
      " 0.925      0.93333333 0.925      0.925      0.925      0.925\n",
      " 0.925      0.925      0.925      0.925      0.925      0.925\n",
      " 0.925             nan 0.675      0.91666667 0.94166667 0.94166667\n",
      " 0.94166667 0.925      0.93333333 0.925      0.925      0.925\n",
      " 0.925      0.925      0.925      0.925      0.925      0.925\n",
      " 0.925      0.925             nan 0.675      0.91666667 0.94166667\n",
      " 0.94166667 0.94166667 0.925      0.93333333 0.925      0.925\n",
      " 0.925      0.925      0.925      0.925      0.925      0.925\n",
      " 0.925      0.925      0.925             nan 0.675      0.91666667\n",
      " 0.94166667 0.94166667 0.94166667 0.925      0.93333333 0.925\n",
      " 0.925      0.925      0.925      0.925      0.925      0.925\n",
      " 0.925      0.925      0.925      0.925             nan 0.675\n",
      " 0.91666667 0.94166667 0.94166667 0.94166667 0.925      0.93333333\n",
      " 0.925      0.925      0.925      0.925      0.925      0.925\n",
      " 0.925      0.925      0.925      0.925      0.925             nan\n",
      " 0.675      0.91666667 0.94166667 0.94166667 0.94166667 0.925\n",
      " 0.93333333 0.925      0.925      0.925      0.925      0.925\n",
      " 0.925      0.925      0.925      0.925      0.925      0.925\n",
      "        nan 0.675      0.91666667 0.94166667 0.94166667 0.94166667\n",
      " 0.925      0.93333333 0.925      0.925      0.925      0.925\n",
      " 0.925      0.925      0.925      0.925      0.925      0.925\n",
      " 0.925             nan 0.675      0.91666667 0.94166667 0.94166667\n",
      " 0.94166667 0.925      0.93333333 0.925      0.925      0.925\n",
      " 0.925      0.925      0.925      0.925      0.925      0.925\n",
      " 0.925      0.925     ]\n",
      "  warnings.warn(\n"
     ]
    },
    {
     "data": {
      "text/plain": [
       "GridSearchCV(cv=5, estimator=DecisionTreeClassifier(random_state=42),\n",
       "             param_grid=[{'criterion': ['gini', 'entropy'],\n",
       "                          'max_depth': array([ 1,  2,  3,  4,  5,  6,  7,  8,  9, 10, 11, 12, 13, 14, 15, 16, 17,\n",
       "       18, 19]),\n",
       "                          'max_leaf_nodes': array([ 1,  2,  3,  4,  5,  6,  7,  8,  9, 10, 11, 12, 13, 14, 15, 16, 17,\n",
       "       18, 19])}])"
      ]
     },
     "execution_count": 28,
     "metadata": {},
     "output_type": "execute_result"
    }
   ],
   "source": [
    "%%time\n",
    "grid.fit(x_train,y_train)"
   ]
  },
  {
   "cell_type": "code",
   "execution_count": 29,
   "id": "145cd754",
   "metadata": {},
   "outputs": [
    {
     "data": {
      "text/plain": [
       "DecisionTreeClassifier(max_depth=3, max_leaf_nodes=4, random_state=42)"
      ]
     },
     "execution_count": 29,
     "metadata": {},
     "output_type": "execute_result"
    }
   ],
   "source": [
    "grid.best_estimator_"
   ]
  },
  {
   "cell_type": "code",
   "execution_count": 30,
   "id": "46001338",
   "metadata": {},
   "outputs": [],
   "source": [
    "tree = DecisionTreeClassifier(criterion='entropy',max_depth=3,max_leaf_nodes=4,random_state=42)"
   ]
  },
  {
   "cell_type": "code",
   "execution_count": 31,
   "id": "0c3f17d4",
   "metadata": {},
   "outputs": [
    {
     "data": {
      "text/plain": [
       "DecisionTreeClassifier(criterion='entropy', max_depth=3, max_leaf_nodes=4,\n",
       "                       random_state=42)"
      ]
     },
     "execution_count": 31,
     "metadata": {},
     "output_type": "execute_result"
    }
   ],
   "source": [
    "tree.fit(x_train,y_train)"
   ]
  },
  {
   "cell_type": "code",
   "execution_count": 32,
   "id": "c21e7586",
   "metadata": {},
   "outputs": [],
   "source": [
    "from sklearn.metrics import accuracy_score"
   ]
  },
  {
   "cell_type": "code",
   "execution_count": 33,
   "id": "b3e43dfb",
   "metadata": {},
   "outputs": [],
   "source": [
    "pred = tree.predict(x_test)"
   ]
  },
  {
   "cell_type": "code",
   "execution_count": 34,
   "id": "539fe837",
   "metadata": {},
   "outputs": [
    {
     "data": {
      "text/plain": [
       "1.0"
      ]
     },
     "execution_count": 34,
     "metadata": {},
     "output_type": "execute_result"
    }
   ],
   "source": [
    "accuracy_score(pred,y_test)"
   ]
  },
  {
   "cell_type": "code",
   "execution_count": null,
   "id": "781e3ce1",
   "metadata": {},
   "outputs": [],
   "source": []
  },
  {
   "cell_type": "code",
   "execution_count": 35,
   "id": "9c6d57d3",
   "metadata": {},
   "outputs": [
    {
     "data": {
      "text/plain": [
       "'a'"
      ]
     },
     "execution_count": 35,
     "metadata": {},
     "output_type": "execute_result"
    }
   ],
   "source": [
    "'a'"
   ]
  },
  {
   "cell_type": "code",
   "execution_count": null,
   "id": "aecabe1d",
   "metadata": {},
   "outputs": [],
   "source": []
  }
 ],
 "metadata": {
  "kernelspec": {
   "display_name": "Python 3 (ipykernel)",
   "language": "python",
   "name": "python3"
  },
  "language_info": {
   "codemirror_mode": {
    "name": "ipython",
    "version": 3
   },
   "file_extension": ".py",
   "mimetype": "text/x-python",
   "name": "python",
   "nbconvert_exporter": "python",
   "pygments_lexer": "ipython3",
   "version": "3.9.13"
  }
 },
 "nbformat": 4,
 "nbformat_minor": 5
}
